{
 "cells": [
  {
   "cell_type": "markdown",
   "metadata": {},
   "source": [
    "# Conclusion"
   ]
  },
  {
   "cell_type": "markdown",
   "metadata": {},
   "source": [
    "One thing I enjoyed about this dataset was that it was a very raw form of NFL data. Whereas fans are often presented with the stats of a given player or team over the course of a game or even season, this dataset contained the data that would be used to calculate those statistics. This provided me with a decent amount of freedom when deciding where to go with this project, being able to analyze many different phases of the NFL game. While having such basic data did make it difficult to both make sense of the data and tidy the data into a meaningful form, it was certainly rewarding."
   ]
  },
  {
   "cell_type": "markdown",
   "metadata": {},
   "source": [
    "Analyzing the NFL dataset, there were a decent amount of statistics that didn't provide much\n",
    "clarity when trying to see what correlates with winning. However, multiple statistics were \n",
    "found to be useful when looking at the winning percentages of NFL teams each year. A team's \n",
    "offensive EPA per play, defensive EPA per play, total passing yards, and percent of runs that \n",
    "were on-pace seemed to be good predictors for this data. Using these variables as predictors, \n",
    "a linear regression model proved to be the most accurate in predicting winning percentage."
   ]
  },
  {
   "cell_type": "markdown",
   "metadata": {},
   "source": [
    "If I were to expand on this project, I could analyze what statistics are correlated with \n",
    "player success. My project ignored the distinction between different players having different\n",
    "impacts and affecting win probabilities as such. To explore this aspect of the NFL could yield\n",
    "interesting results.\n",
    "Similarly, I could analyze certain teams' winning percentages throughout different seasons.\n",
    "Grouping by both year and season, I treated each team in each year as a distinct team. If I \n",
    "were to take a more holistic approach for each franchise, I could potentially gain a better \n",
    "understanding of teams' successes during one season as it relates to previous seasons."
   ]
  },
  {
   "cell_type": "code",
   "execution_count": null,
   "metadata": {},
   "outputs": [],
   "source": []
  }
 ],
 "metadata": {
  "kernelspec": {
   "display_name": "Python 3",
   "language": "python",
   "name": "python3"
  },
  "language_info": {
   "codemirror_mode": {
    "name": "ipython",
    "version": 3
   },
   "file_extension": ".py",
   "mimetype": "text/x-python",
   "name": "python",
   "nbconvert_exporter": "python",
   "pygments_lexer": "ipython3",
   "version": "3.6.3"
  }
 },
 "nbformat": 4,
 "nbformat_minor": 2
}
