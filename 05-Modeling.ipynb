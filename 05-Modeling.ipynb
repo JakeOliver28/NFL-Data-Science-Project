{
 "cells": [
  {
   "cell_type": "markdown",
   "metadata": {},
   "source": [
    "# Modeling"
   ]
  },
  {
   "cell_type": "code",
   "execution_count": 1,
   "metadata": {},
   "outputs": [],
   "source": [
    "import pandas as pd\n",
    "from sklearn.model_selection import train_test_split\n",
    "from matplotlib import pyplot as plt"
   ]
  },
  {
   "cell_type": "code",
   "execution_count": 2,
   "metadata": {},
   "outputs": [],
   "source": [
    "team_df = pd.read_csv('/data/JakeOliver28/teams.csv')"
   ]
  },
  {
   "cell_type": "code",
   "execution_count": 3,
   "metadata": {},
   "outputs": [
    {
     "data": {
      "text/html": [
       "<div>\n",
       "<style scoped>\n",
       "    .dataframe tbody tr th:only-of-type {\n",
       "        vertical-align: middle;\n",
       "    }\n",
       "\n",
       "    .dataframe tbody tr th {\n",
       "        vertical-align: top;\n",
       "    }\n",
       "\n",
       "    .dataframe thead th {\n",
       "        text-align: right;\n",
       "    }\n",
       "</style>\n",
       "<table border=\"1\" class=\"dataframe\">\n",
       "  <thead>\n",
       "    <tr style=\"text-align: right;\">\n",
       "      <th></th>\n",
       "      <th>Unnamed: 0</th>\n",
       "      <th>WinPercentage</th>\n",
       "      <th>PassYards</th>\n",
       "      <th>PassAttempts</th>\n",
       "      <th>PercentOnPaceRuns</th>\n",
       "      <th>RushYards</th>\n",
       "      <th>Sacks</th>\n",
       "      <th>ForcedFumbles</th>\n",
       "      <th>InterceptionThrown</th>\n",
       "      <th>EPAPerPlay</th>\n",
       "      <th>DefEPAPerPlay</th>\n",
       "    </tr>\n",
       "  </thead>\n",
       "  <tbody>\n",
       "    <tr>\n",
       "      <th>0</th>\n",
       "      <td>ARI2009</td>\n",
       "      <td>0.714286</td>\n",
       "      <td>4222.0</td>\n",
       "      <td>587.0</td>\n",
       "      <td>0.462687</td>\n",
       "      <td>1484.0</td>\n",
       "      <td>42</td>\n",
       "      <td>15</td>\n",
       "      <td>20</td>\n",
       "      <td>0.013203</td>\n",
       "      <td>-0.044167</td>\n",
       "    </tr>\n",
       "    <tr>\n",
       "      <th>1</th>\n",
       "      <td>ARI2010</td>\n",
       "      <td>0.100000</td>\n",
       "      <td>3161.0</td>\n",
       "      <td>558.0</td>\n",
       "      <td>0.424920</td>\n",
       "      <td>1367.0</td>\n",
       "      <td>34</td>\n",
       "      <td>24</td>\n",
       "      <td>19</td>\n",
       "      <td>-0.126148</td>\n",
       "      <td>0.022802</td>\n",
       "    </tr>\n",
       "    <tr>\n",
       "      <th>2</th>\n",
       "      <td>ARI2011</td>\n",
       "      <td>0.416667</td>\n",
       "      <td>3992.0</td>\n",
       "      <td>594.0</td>\n",
       "      <td>0.485175</td>\n",
       "      <td>1578.0</td>\n",
       "      <td>42</td>\n",
       "      <td>14</td>\n",
       "      <td>12</td>\n",
       "      <td>-0.090028</td>\n",
       "      <td>-0.041771</td>\n",
       "    </tr>\n",
       "    <tr>\n",
       "      <th>3</th>\n",
       "      <td>ARI2012</td>\n",
       "      <td>0.400000</td>\n",
       "      <td>3791.0</td>\n",
       "      <td>674.0</td>\n",
       "      <td>0.372032</td>\n",
       "      <td>1344.0</td>\n",
       "      <td>42</td>\n",
       "      <td>17</td>\n",
       "      <td>24</td>\n",
       "      <td>-0.156911</td>\n",
       "      <td>-0.081527</td>\n",
       "    </tr>\n",
       "    <tr>\n",
       "      <th>4</th>\n",
       "      <td>ARI2013</td>\n",
       "      <td>0.571429</td>\n",
       "      <td>4400.0</td>\n",
       "      <td>608.0</td>\n",
       "      <td>0.417910</td>\n",
       "      <td>1567.0</td>\n",
       "      <td>47</td>\n",
       "      <td>20</td>\n",
       "      <td>21</td>\n",
       "      <td>-0.007928</td>\n",
       "      <td>-0.054623</td>\n",
       "    </tr>\n",
       "  </tbody>\n",
       "</table>\n",
       "</div>"
      ],
      "text/plain": [
       "  Unnamed: 0  WinPercentage  PassYards  PassAttempts  PercentOnPaceRuns  \\\n",
       "0    ARI2009       0.714286     4222.0         587.0           0.462687   \n",
       "1    ARI2010       0.100000     3161.0         558.0           0.424920   \n",
       "2    ARI2011       0.416667     3992.0         594.0           0.485175   \n",
       "3    ARI2012       0.400000     3791.0         674.0           0.372032   \n",
       "4    ARI2013       0.571429     4400.0         608.0           0.417910   \n",
       "\n",
       "   RushYards  Sacks  ForcedFumbles  InterceptionThrown  EPAPerPlay  \\\n",
       "0     1484.0     42             15                  20    0.013203   \n",
       "1     1367.0     34             24                  19   -0.126148   \n",
       "2     1578.0     42             14                  12   -0.090028   \n",
       "3     1344.0     42             17                  24   -0.156911   \n",
       "4     1567.0     47             20                  21   -0.007928   \n",
       "\n",
       "   DefEPAPerPlay  \n",
       "0      -0.044167  \n",
       "1       0.022802  \n",
       "2      -0.041771  \n",
       "3      -0.081527  \n",
       "4      -0.054623  "
      ]
     },
     "execution_count": 3,
     "metadata": {},
     "output_type": "execute_result"
    }
   ],
   "source": [
    "team_df.head()"
   ]
  },
  {
   "cell_type": "code",
   "execution_count": 4,
   "metadata": {},
   "outputs": [],
   "source": [
    "y = team_df['WinPercentage']\n",
    "X = team_df[['PassYards', 'PassAttempts', 'PercentOnPaceRuns', 'RushYards', 'Sacks', 'ForcedFumbles', \\\n",
    "            'InterceptionThrown', 'EPAPerPlay', 'DefEPAPerPlay']]"
   ]
  },
  {
   "cell_type": "code",
   "execution_count": 5,
   "metadata": {},
   "outputs": [],
   "source": [
    "Xtrain, Xtest, ytrain, ytest = train_test_split(X, y, random_state=0, test_size=0.3)"
   ]
  },
  {
   "cell_type": "code",
   "execution_count": 6,
   "metadata": {},
   "outputs": [],
   "source": [
    "from sklearn.linear_model import LinearRegression, Lasso, Ridge\n",
    "from sklearn.ensemble import RandomForestRegressor\n",
    "from sklearn.preprocessing import PolynomialFeatures\n",
    "from sklearn.pipeline import make_pipeline\n",
    "from sklearn.metrics import r2_score"
   ]
  },
  {
   "cell_type": "markdown",
   "metadata": {},
   "source": [
    "### Overfitted Model (Linear Regression)"
   ]
  },
  {
   "cell_type": "code",
   "execution_count": 7,
   "metadata": {},
   "outputs": [],
   "source": [
    "model1 = make_pipeline(PolynomialFeatures(3),\n",
    "                      LinearRegression())\n",
    "model1.fit(Xtrain, ytrain)\n",
    "ypred_test1 = model1.predict(Xtest)\n",
    "ypred_train1 = model1.predict(Xtrain)"
   ]
  },
  {
   "cell_type": "code",
   "execution_count": 8,
   "metadata": {},
   "outputs": [
    {
     "name": "stdout",
     "output_type": "stream",
     "text": [
      "Training Score:  0.9999999033197662\n",
      "Test Score:  -0.039194338830812026\n"
     ]
    }
   ],
   "source": [
    "print(\"Training Score: \", r2_score(ypred_train1, ytrain))\n",
    "print(\"Test Score: \", r2_score(ypred_test1, ytest))"
   ]
  },
  {
   "cell_type": "markdown",
   "metadata": {},
   "source": [
    "### Less Predictors"
   ]
  },
  {
   "cell_type": "code",
   "execution_count": 9,
   "metadata": {},
   "outputs": [],
   "source": [
    "X = team_df[['EPAPerPlay', 'PercentOnPaceRuns', 'PassYards', 'DefEPAPerPlay']]"
   ]
  },
  {
   "cell_type": "code",
   "execution_count": 10,
   "metadata": {},
   "outputs": [],
   "source": [
    "Xtrain, Xtest, ytrain, ytest = train_test_split(X, y, random_state=0, test_size=0.3)"
   ]
  },
  {
   "cell_type": "code",
   "execution_count": 11,
   "metadata": {},
   "outputs": [],
   "source": [
    "model2 = make_pipeline(PolynomialFeatures(3),\n",
    "                      RandomForestRegressor(n_estimators=10))\n",
    "model2.fit(Xtrain, ytrain)\n",
    "ypred_test2 = model2.predict(Xtest)\n",
    "ypred_train2 = model2.predict(Xtrain)"
   ]
  },
  {
   "cell_type": "code",
   "execution_count": 12,
   "metadata": {},
   "outputs": [
    {
     "name": "stdout",
     "output_type": "stream",
     "text": [
      "Training Score:  0.9396462713197955\n",
      "Test Score:  0.5759101635717014\n",
      "Accuracy: 0.711253310936465\n"
     ]
    }
   ],
   "source": [
    "print(\"Training Score: \", r2_score(ypred_train2, ytrain))\n",
    "print(\"Test Score: \", r2_score(ypred_test2, ytest))\n",
    "print(\"Accuracy: {}\".format(model2.score(Xtest, ytest)))"
   ]
  },
  {
   "cell_type": "code",
   "execution_count": 13,
   "metadata": {},
   "outputs": [],
   "source": [
    "model3 = make_pipeline(PolynomialFeatures(3),\n",
    "                      LinearRegression())\n",
    "model3.fit(Xtrain, ytrain)\n",
    "ypred_test3 = model3.predict(Xtest)\n",
    "ypred_train3 = model3.predict(Xtrain)"
   ]
  },
  {
   "cell_type": "code",
   "execution_count": 14,
   "metadata": {},
   "outputs": [
    {
     "name": "stdout",
     "output_type": "stream",
     "text": [
      "Training Score:  0.777728378857024\n",
      "Test Score:  0.5932909611088243\n",
      "Accuracy: 0.6786536165049565\n"
     ]
    }
   ],
   "source": [
    "print(\"Training Score: \", r2_score(ypred_train3, ytrain))\n",
    "print(\"Test Score: \", r2_score(ypred_test3, ytest))\n",
    "print(\"Accuracy: {}\".format(model3.score(Xtest, ytest)))"
   ]
  },
  {
   "cell_type": "markdown",
   "metadata": {},
   "source": [
    "### Final Model"
   ]
  },
  {
   "cell_type": "markdown",
   "metadata": {},
   "source": [
    "Linear regression with using polynomial features of 1 yielded the best model."
   ]
  },
  {
   "cell_type": "code",
   "execution_count": 15,
   "metadata": {},
   "outputs": [],
   "source": [
    "model4 = make_pipeline(PolynomialFeatures(1),\n",
    "                      LinearRegression())\n",
    "model4.fit(Xtrain, ytrain)\n",
    "ypred_test4 = model4.predict(Xtest)\n",
    "ypred_train4 = model4.predict(Xtrain)"
   ]
  },
  {
   "cell_type": "code",
   "execution_count": 16,
   "metadata": {},
   "outputs": [
    {
     "name": "stdout",
     "output_type": "stream",
     "text": [
      "Training Score:  0.7541740951967002\n",
      "Test Score:  0.7572258067091906\n",
      "Accuracy: 0.8084156324455937\n"
     ]
    }
   ],
   "source": [
    "print(\"Training Score: \", r2_score(ypred_train4, ytrain))\n",
    "print(\"Test Score: \", r2_score(ypred_test4, ytest))\n",
    "print(\"Accuracy: {}\".format(model4.score(Xtest, ytest)))"
   ]
  },
  {
   "cell_type": "code",
   "execution_count": 17,
   "metadata": {},
   "outputs": [
    {
     "data": {
      "image/png": "[encoded data removed]",
      "text/plain": [
       "<matplotlib.figure.Figure at 0x7fb64c695128>"
      ]
     },
     "metadata": {},
     "output_type": "display_data"
    }
   ],
   "source": [
    "residuals = ytest - ypred_test4\n",
    "plt.hist(residuals, bins=20)\n",
    "plt.xlabel('Residuals')\n",
    "plt.ylabel('Count')\n",
    "plt.title('Residuals for Linear Regression')\n",
    "plt.show()"
   ]
  },
  {
   "cell_type": "code",
   "execution_count": null,
   "metadata": {},
   "outputs": [],
   "source": []
  }
 ],
 "metadata": {
  "kernelspec": {
   "display_name": "Python 3",
   "language": "python",
   "name": "python3"
  },
  "language_info": {
   "codemirror_mode": {
    "name": "ipython",
    "version": 3
   },
   "file_extension": ".py",
   "mimetype": "text/x-python",
   "name": "python",
   "nbconvert_exporter": "python",
   "pygments_lexer": "ipython3",
   "version": "3.6.3"
  }
 },
 "nbformat": 4,
 "nbformat_minor": 2
}
