{
 "cells": [
  {
   "cell_type": "markdown",
   "metadata": {},
   "source": [
    "# Introduction"
   ]
  },
  {
   "cell_type": "markdown",
   "metadata": {},
   "source": [
    "I used a dataset from Kaggle that contains every National Football League (NFL) play\n",
    "from every regular season game for the 2008-2016 seasons. Each entry in the dataset \n",
    "contains information on each play from the game clock time and yards gained on the play \n",
    "to more advanced metrics like win probability and expected points. As there are often more \n",
    "than a hundred plays for just a single NFL game, the number of plays throughout these seasons\n",
    "was very large (300,000+)."
   ]
  },
  {
   "cell_type": "markdown",
   "metadata": {},
   "source": [
    "Since the biggest concern in sports is winning, I chose to analyze different statistics, both traditional and non-traditional, and see how they relate to a team's winning percentage."
   ]
  },
  {
   "cell_type": "code",
   "execution_count": null,
   "metadata": {},
   "outputs": [],
   "source": []
  }
 ],
 "metadata": {
  "kernelspec": {
   "display_name": "Python 3",
   "language": "python",
   "name": "python3"
  },
  "language_info": {
   "codemirror_mode": {
    "name": "ipython",
    "version": 3
   },
   "file_extension": ".py",
   "mimetype": "text/x-python",
   "name": "python",
   "nbconvert_exporter": "python",
   "pygments_lexer": "ipython3",
   "version": "3.6.3"
  }
 },
 "nbformat": 4,
 "nbformat_minor": 2
}
