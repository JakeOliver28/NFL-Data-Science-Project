{
 "cells": [
  {
   "cell_type": "markdown",
   "metadata": {},
   "source": [
    "# Grouping"
   ]
  },
  {
   "cell_type": "code",
   "execution_count": 4,
   "metadata": {},
   "outputs": [],
   "source": [
    "import matplotlib.pyplot as plt\n",
    "import pandas as pd\n",
    "import altair as alt\n",
    "import numpy as np"
   ]
  },
  {
   "cell_type": "code",
   "execution_count": 5,
   "metadata": {},
   "outputs": [],
   "source": [
    "nfl_plays = pd.read_csv('/data/JakeOliver28/cleaned_nfl_plays.csv', \\\n",
    "                        dtype={'down':np.float64, 'DefTwoPoint':object, \\\n",
    "                               'BlockingPlayer':str, 'ScoreDiff':float})"
   ]
  },
  {
   "cell_type": "markdown",
   "metadata": {},
   "source": [
    "## Wins"
   ]
  },
  {
   "cell_type": "code",
   "execution_count": 6,
   "metadata": {},
   "outputs": [],
   "source": [
    "# Plays in the fourth quarter of games\n",
    "fourth_quarter = nfl_plays[nfl_plays['qtr'] == 4]\n\n",
    "# Plays per game\n",
    "plays_per_game = nfl_plays.groupby('GameID').count()\n\n",
    "# Plays where a touchdown was scored\n",
    "touchdowns = nfl_plays[nfl_plays['Touchdown'] == 1]\n\n",
    "# Plays where field goals where attempted\n",
    "field_goal_attempts = nfl_plays[nfl_plays['FieldGoalDistance'] >= 1]\n",
    "\n",
    "# Last plays of the game\n",
    "last_plays = nfl_plays.loc[nfl_plays.groupby('GameID')['TimeSecs'].idxmin()]\n",
    "# Finding minimum values for gametime in seconds\n",
    "nfl_plays.groupby('GameID')['TimeSecs'].min()\n\n",
    "# Contains winning percentages of each team\n",
    "onlyWP = last_plays[['GameID', 'desc', 'Win_Prob']]"
   ]
  },
  {
   "cell_type": "markdown",
   "metadata": {},
   "source": [
    "## Winning Percentages"
   ]
  },
  {
   "cell_type": "markdown",
   "metadata": {},
   "source": [
    "For this study, I considered considered the same teams in different seasons as distinct teams.\n",
    "To calculate winning percentages, I found the last play of each game, and looked at a team's\n",
    "win probability after that play. Naturally, for each game, the win probability is 1.00 for \n",
    "the winning team and 0.00 for the losing team."
   ]
  },
  {
   "cell_type": "code",
   "execution_count": 7,
   "metadata": {},
   "outputs": [
    {
     "data": {
      "text/html": [
       "<div>\n",
       "<style scoped>\n",
       "    .dataframe tbody tr th:only-of-type {\n",
       "        vertical-align: middle;\n",
       "    }\n",
       "\n",
       "    .dataframe tbody tr th {\n",
       "        vertical-align: top;\n",
       "    }\n",
       "\n",
       "    .dataframe thead th {\n",
       "        text-align: right;\n",
       "    }\n",
       "</style>\n",
       "<table border=\"1\" class=\"dataframe\">\n",
       "  <thead>\n",
       "    <tr style=\"text-align: right;\">\n",
       "      <th></th>\n",
       "      <th>WinPercentage</th>\n",
       "    </tr>\n",
       "  </thead>\n",
       "  <tbody>\n",
       "    <tr>\n",
       "      <th>ARI2009</th>\n",
       "      <td>0.714286</td>\n",
       "    </tr>\n",
       "    <tr>\n",
       "      <th>ARI2010</th>\n",
       "      <td>0.100000</td>\n",
       "    </tr>\n",
       "    <tr>\n",
       "      <th>ARI2011</th>\n",
       "      <td>0.416667</td>\n",
       "    </tr>\n",
       "    <tr>\n",
       "      <th>ARI2012</th>\n",
       "      <td>0.400000</td>\n",
       "    </tr>\n",
       "    <tr>\n",
       "      <th>ARI2013</th>\n",
       "      <td>0.571429</td>\n",
       "    </tr>\n",
       "  </tbody>\n",
       "</table>\n",
       "</div>"
      ],
      "text/plain": [
       "         WinPercentage\n",
       "ARI2009       0.714286\n",
       "ARI2010       0.100000\n",
       "ARI2011       0.416667\n",
       "ARI2012       0.400000\n",
       "ARI2013       0.571429"
      ]
     },
     "execution_count": 7,
     "metadata": {},
     "output_type": "execute_result"
    }
   ],
   "source": [
    "home_team_win = last_plays[last_plays['Home_WP_post'] >= .99]\n",
    "away_team_win = last_plays[last_plays['Home_WP_post'] <= .01]\n",
    "\n",
    "home_wins = home_team_win.groupby('HomeTeamYear')[['GameID']].count()\n",
    "home_losses = away_team_win.groupby('HomeTeamYear')[['GameID']].count()\n",
    "away_losses = home_team_win.groupby('AwayTeamYear')[['GameID']].count()\n",
    "away_wins = away_team_win.groupby('AwayTeamYear')[['GameID']].count()\n",
    "\n",
    "\n",
    "total_wins = home_wins.add(away_wins, fill_value=0)\n",
    "total_losses = home_losses.add(away_losses, fill_value=0)\n",
    "total_games = total_wins.add(total_losses, fill_value=0)\n",
    "\n",
    "win_percentage = total_wins.divide(total_games)\n",
    "win_percentage = win_percentage.rename(index=str, columns={'GameID':'WinPercentage'})\n",
    "\n",
    "win_percentage.head()"
   ]
  },
  {
   "cell_type": "markdown",
   "metadata": {},
   "source": [
    "## Passing Statistics"
   ]
  },
  {
   "cell_type": "markdown",
   "metadata": {},
   "source": [
    "Here, I calculate mulltiple passing statistics for the entirety of each season such as total \n",
    "passing yards, air yards, and yards after the catch."
   ]
  },
  {
   "cell_type": "code",
   "execution_count": 8,
   "metadata": {},
   "outputs": [
    {
     "data": {
      "text/html": [
       "<div>\n",
       "<style scoped>\n",
       "    .dataframe tbody tr th:only-of-type {\n",
       "        vertical-align: middle;\n",
       "    }\n",
       "\n",
       "    .dataframe tbody tr th {\n",
       "        vertical-align: top;\n",
       "    }\n",
       "\n",
       "    .dataframe thead th {\n",
       "        text-align: right;\n",
       "    }\n",
       "</style>\n",
       "<table border=\"1\" class=\"dataframe\">\n",
       "  <thead>\n",
       "    <tr style=\"text-align: right;\">\n",
       "      <th></th>\n",
       "      <th>PassYards</th>\n",
       "    </tr>\n",
       "    <tr>\n",
       "      <th>posteamYear</th>\n",
       "      <th></th>\n",
       "    </tr>\n",
       "  </thead>\n",
       "  <tbody>\n",
       "    <tr>\n",
       "      <th>ARI2009</th>\n",
       "      <td>4222</td>\n",
       "    </tr>\n",
       "    <tr>\n",
       "      <th>ARI2010</th>\n",
       "      <td>3161</td>\n",
       "    </tr>\n",
       "    <tr>\n",
       "      <th>ARI2011</th>\n",
       "      <td>3992</td>\n",
       "    </tr>\n",
       "    <tr>\n",
       "      <th>ARI2012</th>\n",
       "      <td>3791</td>\n",
       "    </tr>\n",
       "    <tr>\n",
       "      <th>ARI2013</th>\n",
       "      <td>4400</td>\n",
       "    </tr>\n",
       "  </tbody>\n",
       "</table>\n",
       "</div>"
      ],
      "text/plain": [
       "             PassYards\n",
       "posteamYear           \n",
       "ARI2009           4222\n",
       "ARI2010           3161\n",
       "ARI2011           3992\n",
       "ARI2012           3791\n",
       "ARI2013           4400"
      ]
     },
     "execution_count": 8,
     "metadata": {},
     "output_type": "execute_result"
    }
   ],
   "source": [
    "pass_plays_groupby = nfl_plays[nfl_plays['PassOutcome'] == 'Complete'].groupby('posteamYear')\n",
    "\n",
    "pass_yards = pass_plays_groupby[['Yards.Gained']].sum()\n",
    "pass_yards = pass_yards.rename(index=str, columns={'Yards.Gained':'PassYards'})\n",
    "\n",
    "air_yards = pass_plays_groupby[['AirYards']].sum()\n",
    "yards_after_catch = pass_plays_groupby[['YardsAfterCatch']].sum()\n",
    "\n",
    "pass_attempts = nfl_plays[nfl_plays['PassAttempt'] == 1].groupby('posteamYear')[['Yards.Gained']].count()\n",
    "pass_attempts = pass_attempts.rename(index=str, columns={'Yards.Gained':'PassAttempts'})\n",
    "\n",
    "pass_yards.head()"
   ]
  },
  {
   "cell_type": "markdown",
   "metadata": {},
   "source": [
    "## Run Statistics"
   ]
  },
  {
   "cell_type": "markdown",
   "metadata": {},
   "source": [
    "One statistic I examined was the percentage of the time a rushing play by a given team\n",
    "kept the team \"on-pace\". A rush that keeps a team on-pace is considered to be a rush of\n",
    "at least 40% the yards to go on first down, at least 60% the yards to go on second down, \n",
    "and at least 100% the yards to go on third or fourth down."
   ]
  },
  {
   "cell_type": "code",
   "execution_count": 9,
   "metadata": {},
   "outputs": [
    {
     "data": {
      "text/html": [
       "<div>\n",
       "<style scoped>\n",
       "    .dataframe tbody tr th:only-of-type {\n",
       "        vertical-align: middle;\n",
       "    }\n",
       "\n",
       "    .dataframe tbody tr th {\n",
       "        vertical-align: top;\n",
       "    }\n",
       "\n",
       "    .dataframe thead th {\n",
       "        text-align: right;\n",
       "    }\n",
       "</style>\n",
       "<table border=\"1\" class=\"dataframe\">\n",
       "  <thead>\n",
       "    <tr style=\"text-align: right;\">\n",
       "      <th></th>\n",
       "      <th>RushYards</th>\n",
       "    </tr>\n",
       "    <tr>\n",
       "      <th>posteamYear</th>\n",
       "      <th></th>\n",
       "    </tr>\n",
       "  </thead>\n",
       "  <tbody>\n",
       "    <tr>\n",
       "      <th>ARI2009</th>\n",
       "      <td>1484</td>\n",
       "    </tr>\n",
       "    <tr>\n",
       "      <th>ARI2010</th>\n",
       "      <td>1367</td>\n",
       "    </tr>\n",
       "    <tr>\n",
       "      <th>ARI2011</th>\n",
       "      <td>1578</td>\n",
       "    </tr>\n",
       "    <tr>\n",
       "      <th>ARI2012</th>\n",
       "      <td>1344</td>\n",
       "    </tr>\n",
       "    <tr>\n",
       "      <th>ARI2013</th>\n",
       "      <td>1567</td>\n",
       "    </tr>\n",
       "  </tbody>\n",
       "</table>\n",
       "</div>"
      ],
      "text/plain": [
       "             RushYards\n",
       "posteamYear           \n",
       "ARI2009           1484\n",
       "ARI2010           1367\n",
       "ARI2011           1578\n",
       "ARI2012           1344\n",
       "ARI2013           1567"
      ]
     },
     "execution_count": 9,
     "metadata": {},
     "output_type": "execute_result"
    }
   ],
   "source": [
    "run_plays = nfl_plays[nfl_plays['RushAttempt'] == 1]\n",
    "\n",
    "first_down_runs = run_plays[run_plays['down'] == 1]\n",
    "second_down_runs = run_plays[run_plays['down'] == 2]\n",
    "third_down_runs = run_plays[run_plays['down'] == 3]\n",
    "fourth_down_runs = run_plays[run_plays['down'] == 4]\n",
    "\n",
    "succ_first = first_down_runs[first_down_runs['Yards.Gained'] >= .4*first_down_runs['ydstogo']]\n",
    "succ_second = second_down_runs[second_down_runs['Yards.Gained'] >= .6*second_down_runs['ydstogo']]\n",
    "succ_third = third_down_runs[third_down_runs['Yards.Gained'] >= third_down_runs['ydstogo']]\n",
    "succ_fourth = fourth_down_runs[fourth_down_runs['Yards.Gained'] >= fourth_down_runs['ydstogo']]\n",
    "\n",
    "succ_first_gb = succ_first.groupby('posteamYear')[['RushAttempt']].count()\n",
    "first_down_gb = first_down_runs.groupby('posteamYear')[['RushAttempt']].count()\n",
    "succ_second_gb = succ_second.groupby('posteamYear')[['RushAttempt']].count()\n",
    "second_down_gb = second_down_runs.groupby('posteamYear')[['RushAttempt']].count()\n",
    "succ_third_gb = succ_third.groupby('posteamYear')[['RushAttempt']].count()\n",
    "third_down_gb = third_down_runs.groupby('posteamYear')[['RushAttempt']].count()\n",
    "succ_fourth_gb = succ_fourth.groupby('posteamYear')[['RushAttempt']].count()\n",
    "fourth_down_gb = fourth_down_runs.groupby('posteamYear')[['RushAttempt']].count()\n",
    "\n",
    "runs = first_down_gb.add(second_down_gb, fill_value=0)\n",
    "runs = runs.add(third_down_gb, fill_value=0)\n",
    "runs = runs.add(fourth_down_gb, fill_value=0)\n",
    "\n",
    "succ_runs = succ_first_gb.add(succ_second_gb, fill_value=0)\n",
    "succ_runs = succ_runs.add(succ_third_gb, fill_value=0)\n",
    "succ_runs = succ_runs.add(succ_fourth_gb, fill_value=0)\n",
    "\n",
    "percent_succ_runs = succ_runs.divide(runs)\n",
    "percent_succ_runs = percent_succ_runs.rename(index=str, columns={'RushAttempt':'PercentOnPaceRuns'})\n",
    "\n",
    "run_yards = run_plays.groupby('posteamYear')[['Yards.Gained']].sum()\n",
    "run_yards = run_yards.rename(index=str, columns={'Yards.Gained':'RushYards'})\n",
    "\n",
    "run_yards.head()"
   ]
  },
  {
   "cell_type": "markdown",
   "metadata": {},
   "source": [
    "## EPA"
   ]
  },
  {
   "cell_type": "markdown",
   "metadata": {},
   "source": [
    "A offense's expected points (EP) for a certain drive are essentially the number of points \n",
    "a similar team in a similar situation would score, on average. Expected points added (EPA) \n",
    "is the amount an offense's expected points increase after an individual play."
   ]
  },
  {
   "cell_type": "code",
   "execution_count": 10,
   "metadata": {},
   "outputs": [
    {
     "data": {
      "text/html": [
       "<div>\n",
       "<style scoped>\n",
       "    .dataframe tbody tr th:only-of-type {\n",
       "        vertical-align: middle;\n",
       "    }\n",
       "\n",
       "    .dataframe tbody tr th {\n",
       "        vertical-align: top;\n",
       "    }\n",
       "\n",
       "    .dataframe thead th {\n",
       "        text-align: right;\n",
       "    }\n",
       "</style>\n",
       "<table border=\"1\" class=\"dataframe\">\n",
       "  <thead>\n",
       "    <tr style=\"text-align: right;\">\n",
       "      <th></th>\n",
       "      <th>EPAPerPlay</th>\n",
       "    </tr>\n",
       "    <tr>\n",
       "      <th>posteamYear</th>\n",
       "      <th></th>\n",
       "    </tr>\n",
       "  </thead>\n",
       "  <tbody>\n",
       "    <tr>\n",
       "      <th>ARI2009</th>\n",
       "      <td>0.013203</td>\n",
       "    </tr>\n",
       "    <tr>\n",
       "      <th>ARI2010</th>\n",
       "      <td>-0.126148</td>\n",
       "    </tr>\n",
       "    <tr>\n",
       "      <th>ARI2011</th>\n",
       "      <td>-0.090028</td>\n",
       "    </tr>\n",
       "    <tr>\n",
       "      <th>ARI2012</th>\n",
       "      <td>-0.156911</td>\n",
       "    </tr>\n",
       "    <tr>\n",
       "      <th>ARI2013</th>\n",
       "      <td>-0.007928</td>\n",
       "    </tr>\n",
       "  </tbody>\n",
       "</table>\n",
       "</div>"
      ],
      "text/plain": [
       "             EPAPerPlay\n",
       "posteamYear            \n",
       "ARI2009        0.013203\n",
       "ARI2010       -0.126148\n",
       "ARI2011       -0.090028\n",
       "ARI2012       -0.156911\n",
       "ARI2013       -0.007928"
      ]
     },
     "execution_count": 10,
     "metadata": {},
     "output_type": "execute_result"
    }
   ],
   "source": [
    "epa = nfl_plays.groupby('posteamYear')[['EPA']].sum()\n",
    "total_plays = nfl_plays.groupby('posteamYear')[['EPA']].count()\n",
    "\n",
    "epa_per_play = epa.divide(total_plays)\n",
    "epa_per_play = epa_per_play.rename(index=str, columns={'EPA':'EPAPerPlay'})\n",
    "\n",
    "\n",
    "def_epa = nfl_plays.groupby('DefensiveTeamYear')[['EPA']].sum()\n",
    "def_total_plays = nfl_plays.groupby('DefensiveTeamYear')[['EPA']].count()\n",
    "\n",
    "def_epa_per_play = def_epa.divide(total_plays)\n",
    "def_epa_per_play = def_epa_per_play.rename(index=str, columns={'EPA':'DefEPAPerPlay'})\n",
    "\n",
    "epa_per_play.head()"
   ]
  },
  {
   "cell_type": "markdown",
   "metadata": {},
   "source": [
    "## Defense"
   ]
  },
  {
   "cell_type": "markdown",
   "metadata": {},
   "source": [
    "Here, I sum different defensive statistics: sacks, fumbles, and interceptions."
   ]
  },
  {
   "cell_type": "code",
   "execution_count": 11,
   "metadata": {},
   "outputs": [
    {
     "data": {
      "text/html": [
       "<div>\n",
       "<style scoped>\n",
       "    .dataframe tbody tr th:only-of-type {\n",
       "        vertical-align: middle;\n",
       "    }\n",
       "\n",
       "    .dataframe tbody tr th {\n",
       "        vertical-align: top;\n",
       "    }\n",
       "\n",
       "    .dataframe thead th {\n",
       "        text-align: right;\n",
       "    }\n",
       "</style>\n",
       "<table border=\"1\" class=\"dataframe\">\n",
       "  <thead>\n",
       "    <tr style=\"text-align: right;\">\n",
       "      <th></th>\n",
       "      <th>Sacks</th>\n",
       "    </tr>\n",
       "    <tr>\n",
       "      <th>DefensiveTeamYear</th>\n",
       "      <th></th>\n",
       "    </tr>\n",
       "  </thead>\n",
       "  <tbody>\n",
       "    <tr>\n",
       "      <th>ARI2009</th>\n",
       "      <td>42</td>\n",
       "    </tr>\n",
       "    <tr>\n",
       "      <th>ARI2010</th>\n",
       "      <td>34</td>\n",
       "    </tr>\n",
       "    <tr>\n",
       "      <th>ARI2011</th>\n",
       "      <td>42</td>\n",
       "    </tr>\n",
       "    <tr>\n",
       "      <th>ARI2012</th>\n",
       "      <td>42</td>\n",
       "    </tr>\n",
       "    <tr>\n",
       "      <th>ARI2013</th>\n",
       "      <td>47</td>\n",
       "    </tr>\n",
       "  </tbody>\n",
       "</table>\n",
       "</div>"
      ],
      "text/plain": [
       "                   Sacks\n",
       "DefensiveTeamYear       \n",
       "ARI2009               42\n",
       "ARI2010               34\n",
       "ARI2011               42\n",
       "ARI2012               42\n",
       "ARI2013               47"
      ]
     },
     "execution_count": 11,
     "metadata": {},
     "output_type": "execute_result"
    }
   ],
   "source": [
    "sacks = nfl_plays.groupby('DefensiveTeamYear')[['Sack']].sum()\n",
    "fumbles = nfl_plays.groupby('DefensiveTeamYear')[['Fumble']].sum()\n",
    "interceptions = nfl_plays.groupby('DefensiveTeamYear')[['InterceptionThrown']].sum()\n",
    "\n",
    "sacks = sacks.rename(index=str, columns={'Sack':'Sacks'})\n",
    "fumbles = fumbles.rename(index=str, columns={'Fumble':'ForcedFumbles'})\n",
    "interceptions = interceptions.rename(index=str, columns={'Interception':'Interceptions'})\n",
    "\n",
    "sacks.head()"
   ]
  },
  {
   "cell_type": "markdown",
   "metadata": {},
   "source": [
    "## Form Single DataFrame"
   ]
  },
  {
   "cell_type": "code",
   "execution_count": 12,
   "metadata": {},
   "outputs": [],
   "source": [
    "# Concatenate calculated statistics to form single dataframe\n",
    "\n",
    "team_df = pd.concat([win_percentage, pass_yards, pass_attempts, percent_succ_runs, \\\n",
    "                     run_yards, sacks, fumbles, interceptions, epa_per_play, \\\n",
    "                     def_epa_per_play], axis=1)\n",
    "\n",
    "team_df = team_df.dropna(axis=0, how='any')\n",
    "\n",
    "team_df.to_csv('/data/JakeOliver28/teams.csv')"
   ]
  },
  {
   "cell_type": "code",
   "execution_count": null,
   "metadata": {},
   "outputs": [],
   "source": []
  }
 ],
 "metadata": {
  "kernelspec": {
   "display_name": "Python 3",
   "language": "python",
   "name": "python3"
  },
  "language_info": {
   "codemirror_mode": {
    "name": "ipython",
    "version": 3
   },
   "file_extension": ".py",
   "mimetype": "text/x-python",
   "name": "python",
   "nbconvert_exporter": "python",
   "pygments_lexer": "ipython3",
   "version": "3.6.3"
  }
 },
 "nbformat": 4,
 "nbformat_minor": 2
}
